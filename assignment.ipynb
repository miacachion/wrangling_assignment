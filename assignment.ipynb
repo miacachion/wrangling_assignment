{
  "cells": [
    {
      "cell_type": "markdown",
      "id": "13ad028b-72b7-43ed-aa78-96fd4e518040",
      "metadata": {
        "id": "13ad028b-72b7-43ed-aa78-96fd4e518040"
      },
      "source": [
        "# Assignment: Data Wrangling\n",
        "### `! git clone https://github.com/ds3001f25/wrangling_assignment.git`\n",
        "### Do Q1 and Q2\n",
        "### Reading material: `tidy_data.pdf`"
      ]
    },
    {
      "cell_type": "markdown",
      "id": "da879ea7-8aac-48a3-b6c2-daea56d2e072",
      "metadata": {
        "id": "da879ea7-8aac-48a3-b6c2-daea56d2e072"
      },
      "source": [
        "**Q1.** This question provides some practice cleaning variables which have common problems.\n",
        "1. Numeric variable: For `./data/airbnb_hw.csv`, clean the `Price` variable as well as you can, and explain the choices you make. How many missing values do you end up with? (Hint: What happens to the formatting when a price goes over 999 dollars, say from 675 to 1,112?)\n",
        "2. Categorical variable: For the Minnesota police use of for data, `./data/mn_police_use_of_force.csv`, clean the `subject_injury` variable, handling the NA's; this gives a value `Yes` when a person was injured by police, and `No` when no injury occurred. What proportion of the values are missing? Is this a concern? Cross-tabulate your cleaned `subject_injury` variable with the `force_type` variable. Are there any patterns regarding when the data are missing?\n",
        "3. Dummy variable: For the pretrial data covered in the lecture `./data/justice_data.parquet`, clean the `WhetherDefendantWasReleasedPretrial` variable as well as you can, and, in particular, replace missing values with `np.nan`.\n",
        "4. Missing values, not at random: For the pretrial data covered in the lecture, clean the `ImposedSentenceAllChargeInContactEvent` variable as well as you can, and explain the choices you make. (Hint: Look at the `SentenceTypeAllChargesAtConvictionInContactEvent` variable.)"
      ]
    },
    {
      "cell_type": "code",
      "source": [
        "!ls\n",
        "!git clone https://github.com/miacachion/wrangling_assignment.git\n",
        "%cd wrangling_assignment\n",
        "!git remote -v"
      ],
      "metadata": {
        "colab": {
          "base_uri": "https://localhost:8080/"
        },
        "id": "Uu-dow4AKY0g",
        "outputId": "55781a55-5a45-45cb-8253-5edeaf3f54a3"
      },
      "id": "Uu-dow4AKY0g",
      "execution_count": 15,
      "outputs": [
        {
          "output_type": "stream",
          "name": "stdout",
          "text": [
            "assignment.ipynb  data\tREADME.md  tidy_data.pdf\n",
            "Cloning into 'wrangling_assignment'...\n",
            "remote: Enumerating objects: 18, done.\u001b[K\n",
            "remote: Counting objects: 100% (9/9), done.\u001b[K\n",
            "remote: Compressing objects: 100% (8/8), done.\u001b[K\n",
            "remote: Total 18 (delta 3), reused 1 (delta 1), pack-reused 9 (from 1)\u001b[K\n",
            "Receiving objects: 100% (18/18), 7.34 MiB | 17.60 MiB/s, done.\n",
            "Resolving deltas: 100% (3/3), done.\n",
            "/content/wrangling_assignment/wrangling_assignment\n",
            "origin\thttps://github.com/miacachion/wrangling_assignment.git (fetch)\n",
            "origin\thttps://github.com/miacachion/wrangling_assignment.git (push)\n"
          ]
        }
      ]
    },
    {
      "cell_type": "code",
      "execution_count": 5,
      "id": "9d412a8d",
      "metadata": {
        "colab": {
          "base_uri": "https://localhost:8080/"
        },
        "id": "9d412a8d",
        "outputId": "81dfdbb8-6da7-44cc-8f0a-39acf28c2d1e"
      },
      "outputs": [
        {
          "output_type": "stream",
          "name": "stdout",
          "text": [
            "0    145.0\n",
            "1     37.0\n",
            "2     28.0\n",
            "3    199.0\n",
            "4    549.0\n",
            "5    149.0\n",
            "6    250.0\n",
            "7     90.0\n",
            "8    270.0\n",
            "9    290.0\n",
            "Name: Price_clean, dtype: float64\n",
            "Missing vals: 0\n"
          ]
        }
      ],
      "source": [
        "import pandas as pd\n",
        "import numpy as np\n",
        "\n",
        "#1\n",
        "\n",
        "airbnb = pd.read_csv(\"./data/airbnb_hw.csv\")\n",
        "\n",
        "airbnb[\"Price_clean\"] = (\n",
        "    airbnb[\"Price\"]\n",
        "    .str.replace(\",\", \"\", regex=False)\n",
        "    .astype(float)\n",
        ")\n",
        "\n",
        "print(airbnb[\"Price_clean\"].head(10))\n",
        "\n",
        "# removed commas from numbers over 999, changed values to float to allow for numeric calculations\n",
        "\n",
        "missing_prices = airbnb[\"Price_clean\"].isna().sum()\n",
        "print(\"Missing vals:\", missing_prices)\n",
        "\n",
        "# 0 missing values in cleaned column"
      ]
    },
    {
      "cell_type": "code",
      "source": [
        "#2\n",
        "\n",
        "police = pd.read_csv(\"./data/mn_police_use_of_force.csv\")\n",
        "police[\"subject_injury\"].value_counts(dropna=False)\n",
        "\n",
        "police[\"subject_injury_clean\"] = (\n",
        "    police[\"subject_injury\"]\n",
        "    .str.strip()\n",
        "    .str.lower()\n",
        "    .replace({\"none\": \"no\"})\n",
        ")\n",
        "\n",
        "police[\"subject_injury_clean\"] = police[\"subject_injury_clean\"].map({\n",
        "    \"yes\": \"Yes\",\n",
        "    \"no\": \"No\"\n",
        "})\n",
        "\n",
        "police[\"subject_injury_clean\"].value_counts(dropna=False)\n",
        "\n",
        "prop_missing = police[\"subject_injury_clean\"].isna().mean()\n",
        "print(prop_missing)\n",
        "\n",
        "# the proportion of missing values is roughly 76.19 percent\n",
        "# this number is concerning it is difficult to draw reliable conclusions from a data set with such a high proportion of missing values\n"
      ],
      "metadata": {
        "colab": {
          "base_uri": "https://localhost:8080/"
        },
        "id": "tzg0RWG2jFyh",
        "outputId": "d8e2c249-31df-4b60-aa5a-f565348f6721"
      },
      "id": "tzg0RWG2jFyh",
      "execution_count": 6,
      "outputs": [
        {
          "output_type": "stream",
          "name": "stdout",
          "text": [
            "0.7619342359767892\n"
          ]
        }
      ]
    },
    {
      "cell_type": "code",
      "source": [
        "ct = pd.crosstab(police[\"subject_injury_clean\"], police[\"force_type\"], margins=True)\n",
        "print(ct)\n",
        "\n",
        "# patterns that stick out are higher number of data points in the categories Bodily Force and Taser and lower number in Baton and Firearm\n",
        "# more missing data/limits in data collection in more extreme forms such as Firearm"
      ],
      "metadata": {
        "colab": {
          "base_uri": "https://localhost:8080/"
        },
        "id": "jlQzEQS73lsh",
        "outputId": "6a975dec-e181-42e1-8dac-6f665273ad41"
      },
      "id": "jlQzEQS73lsh",
      "execution_count": 7,
      "outputs": [
        {
          "output_type": "stream",
          "name": "stdout",
          "text": [
            "force_type            Baton  Bodily Force  Chemical Irritant  Firearm  \\\n",
            "subject_injury_clean                                                    \n",
            "No                        0          1093                131        2   \n",
            "Yes                       2          1286                 41        0   \n",
            "All                       2          2379                172        2   \n",
            "\n",
            "force_type            Gun Point Display  Improvised Weapon  \\\n",
            "subject_injury_clean                                         \n",
            "No                                   33                 34   \n",
            "Yes                                  44                 40   \n",
            "All                                  77                 74   \n",
            "\n",
            "force_type            Less Lethal Projectile  Police K9 Bite  Taser   All  \n",
            "subject_injury_clean                                                       \n",
            "No                                         1               2    150  1446  \n",
            "Yes                                        2              44    172  1631  \n",
            "All                                        3              46    322  3077  \n"
          ]
        }
      ]
    },
    {
      "cell_type": "code",
      "source": [
        "#3\n",
        "\n",
        "justice = pd.read_parquet(\"./data/justice_data.parquet\")\n",
        "\n",
        "justice[\"WhetherDefendantWasReleasedPretrial\"].value_counts(dropna=False)\n",
        "\n",
        "justice[\"ReleasedPretrial_clean\"] = justice[\"WhetherDefendantWasReleasedPretrial\"].replace(9, np.nan)\n",
        "\n",
        "justice[\"ReleasedPretrial_clean\"].value_counts(dropna=False)\n",
        "\n",
        "justice[\"ReleasedPretrial_str\"] = justice[\"ReleasedPretrial_clean\"].map({\n",
        "    1.0: \"Yes\",\n",
        "    0.0: \"No\",\n",
        "    np.nan: np.nan\n",
        "})\n",
        "\n",
        "justice[\"ReleasedPretrial_str\"].value_counts(dropna=False)"
      ],
      "metadata": {
        "colab": {
          "base_uri": "https://localhost:8080/",
          "height": 210
        },
        "id": "m-TBtToEFj-z",
        "outputId": "e73b80c5-c971-466a-ec86-0403612022fe"
      },
      "id": "m-TBtToEFj-z",
      "execution_count": 8,
      "outputs": [
        {
          "output_type": "execute_result",
          "data": {
            "text/plain": [
              "ReleasedPretrial_str\n",
              "Yes    19154\n",
              "No      3801\n",
              "NaN       31\n",
              "Name: count, dtype: int64"
            ],
            "text/html": [
              "<div>\n",
              "<style scoped>\n",
              "    .dataframe tbody tr th:only-of-type {\n",
              "        vertical-align: middle;\n",
              "    }\n",
              "\n",
              "    .dataframe tbody tr th {\n",
              "        vertical-align: top;\n",
              "    }\n",
              "\n",
              "    .dataframe thead th {\n",
              "        text-align: right;\n",
              "    }\n",
              "</style>\n",
              "<table border=\"1\" class=\"dataframe\">\n",
              "  <thead>\n",
              "    <tr style=\"text-align: right;\">\n",
              "      <th></th>\n",
              "      <th>count</th>\n",
              "    </tr>\n",
              "    <tr>\n",
              "      <th>ReleasedPretrial_str</th>\n",
              "      <th></th>\n",
              "    </tr>\n",
              "  </thead>\n",
              "  <tbody>\n",
              "    <tr>\n",
              "      <th>Yes</th>\n",
              "      <td>19154</td>\n",
              "    </tr>\n",
              "    <tr>\n",
              "      <th>No</th>\n",
              "      <td>3801</td>\n",
              "    </tr>\n",
              "    <tr>\n",
              "      <th>NaN</th>\n",
              "      <td>31</td>\n",
              "    </tr>\n",
              "  </tbody>\n",
              "</table>\n",
              "</div><br><label><b>dtype:</b> int64</label>"
            ]
          },
          "metadata": {},
          "execution_count": 8
        }
      ]
    },
    {
      "cell_type": "code",
      "source": [
        "#4\n",
        "\n",
        "justice[[\"ImposedSentenceAllChargeInContactEvent\",\n",
        "         \"SentenceTypeAllChargesAtConvictionInContactEvent\"]].head(20)\n",
        "\n",
        "justice[\"ImposedSentence_clean\"] = justice[\"ImposedSentenceAllChargeInContactEvent\"]\n",
        "\n",
        "justice.loc[\n",
        "    justice[\"SentenceTypeAllChargesAtConvictionInContactEvent\"].isna(),\n",
        "    \"ImposedSentence_clean\"\n",
        "] = np.nan\n",
        "\n",
        "missing_sentences = justice[\"ImposedSentence_clean\"].isna().sum()\n",
        "\n",
        "# replaced missing sentences with NaN when corresponding sentence type was missing, marked missing vals for cases without conviction"
      ],
      "metadata": {
        "id": "HTXMgmuwHwZN"
      },
      "id": "HTXMgmuwHwZN",
      "execution_count": 9,
      "outputs": []
    },
    {
      "cell_type": "markdown",
      "id": "5a60a44e",
      "metadata": {
        "id": "5a60a44e"
      },
      "source": [
        "**Q2.** Go to https://sharkattackfile.net/ and download their dataset on shark attacks (Hint: `GSAF5.xls`).\n",
        "\n",
        "1. Open the shark attack file using Pandas. It is probably not a csv file, so `read_csv` won't work.\n",
        "2. Drop any columns that do not contain data.\n",
        "3. Clean the year variable. Describe the range of values you see. Filter the rows to focus on attacks since 1940. Are attacks increasing, decreasing, or remaining constant over time?\n",
        "4. Clean the Age variable and make a histogram of the ages of the victims.\n",
        "5. What proportion of victims are male?\n",
        "6. Clean the `Type` variable so it only takes three values: Provoked and Unprovoked and Unknown. What proportion of attacks are unprovoked?\n",
        "7. Clean the `Fatal Y/N` variable so it only takes three values: Y, N, and Unknown.\n",
        "8. Are sharks more likely to launch unprovoked attacks on men or women? Is the attack more or less likely to be fatal when the attack is provoked or unprovoked? Is it more or less likely to be fatal when the victim is male or female? How do you feel about sharks?\n",
        "9. What proportion of attacks appear to be by white sharks? (Hint: `str.split()` makes a vector of text values into a list of lists, split by spaces.)"
      ]
    },
    {
      "cell_type": "code",
      "execution_count": 21,
      "id": "a3f03830",
      "metadata": {
        "colab": {
          "base_uri": "https://localhost:8080/"
        },
        "id": "a3f03830",
        "outputId": "9bf26b89-1b0a-496d-a189-96535685203b"
      },
      "outputs": [
        {
          "output_type": "stream",
          "name": "stdout",
          "text": [
            "(7042, 23)\n",
            "               Date    Year        Type           Country  \\\n",
            "0  16th August 2025  2025.0    Provoked               USA   \n",
            "1       18th August  2025.0  Unprovoked         Australia   \n",
            "2       17th August  2025.0  Unprovoked           Bahamas   \n",
            "3        7th August  2025.0  Unprovoked         Australia   \n",
            "4        1st August  2025.0  Unprovoked       Puerto Rico   \n",
            "5         28th July  2025.0  Unprovoked         Australia   \n",
            "6         25th July  2025.0  Unprovoked  French Polynesia   \n",
            "7         22nd July  2025.0  Unprovoked             Spain   \n",
            "8         20th July  2025.0  Unprovoked    Canary Islands   \n",
            "9         19th July  2025.0  Unprovoked               USA   \n",
            "\n",
            "                               State  \\\n",
            "0                            Florida   \n",
            "1                                NSW   \n",
            "2  Atlantic Ocean near Big Grand Cay   \n",
            "3                                NSW   \n",
            "4                           Carolina   \n",
            "5                    South Australia   \n",
            "6                          Nuku Hiva   \n",
            "7                            Majorca   \n",
            "8                      Fuerteventura   \n",
            "9                            Florida   \n",
            "\n",
            "                                            Location                Activity  \\\n",
            "0                             Cayo Costa Boca Grande                 Fishing   \n",
            "1                                     Cabarita Beach                 Surfing   \n",
            "2                North of Grand Bahama near Freeport            Spearfishing   \n",
            "3                                      Tathra Beach                  Surfing   \n",
            "4                                     Carolina Beach                  Wading   \n",
            "5                            Seacliff beach Adelaide               Kayaking    \n",
            "6                                        Taiohae Bay                Swimming   \n",
            "7                               Playa de Palma beach                Swimming   \n",
            "8                                       Los Mollinas  Surfing (Hydrofoiling)   \n",
            "9  Jupiter Inlet off Jupiter Beach Palm Beach County                  Diving   \n",
            "\n",
            "                 Name Sex Age  ...                         Species   \\\n",
            "0         Shawn Meuse   M   ?  ...          Lemon shark 1.8 m (6ft)   \n",
            "1           Brad Ross   M   ?  ...          5m (16.5ft) Great White   \n",
            "2          Not stated   M  63  ...                     Undetermined   \n",
            "3         Bowie Daley   M   9  ...            Suspected Great White   \n",
            "4        Eleonora Boi   F  39  ...                     Undetermined   \n",
            "5  Nathaniel Drummond   M  19  ...  Great White Shark est 3m (10ft)   \n",
            "6          Male child   M   7  ...                     Undetermined   \n",
            "7       Italian women  F   85  ...                     Undetermined   \n",
            "8             Unknown   M   ?  ...                     Undetermined   \n",
            "9           Jeff Joel   M  69  ...                      Lemon shark   \n",
            "\n",
            "                                              Source  pdf href formula href  \\\n",
            "0  Johannes Marchand: Kevin McMurray Trackingshar...  NaN          NaN  NaN   \n",
            "1  Bob Myatt GSAF The Guardian: 9 News: ABS News:...  NaN          NaN  NaN   \n",
            "2  Ralph Collier GSAF and Kevin MCMurray Tracking...  NaN          NaN  NaN   \n",
            "3                                     Bob Myatt GSAF  NaN          NaN  NaN   \n",
            "4         Kevin McMurray Trackingsharks.com: NY Post  NaN          NaN  NaN   \n",
            "5                   Bob Myatt GSAF: Simon de Marchi:  NaN          NaN  NaN   \n",
            "6  Brandyn Gartelman:Kevin McMurray Trackingshark...  NaN          NaN  NaN   \n",
            "7                                     Bob Myatt GSAF  NaN          NaN  NaN   \n",
            "8                  Kevin McMurray Trackingsharks.com  NaN          NaN  NaN   \n",
            "9  Brandyn Gartelman: Kevin McMurray Trackingshar...  NaN          NaN  NaN   \n",
            "\n",
            "  Case Number Case Number.1 original order Unnamed: 21 Unnamed: 22  \n",
            "0         NaN           NaN            NaN         NaN         NaN  \n",
            "1         NaN           NaN            NaN         NaN         NaN  \n",
            "2         NaN           NaN            NaN         NaN         NaN  \n",
            "3         NaN           NaN            NaN         NaN         NaN  \n",
            "4         NaN           NaN            NaN         NaN         NaN  \n",
            "5         NaN           NaN            NaN         NaN         NaN  \n",
            "6         NaN           NaN            NaN         NaN         NaN  \n",
            "7         NaN           NaN            NaN         NaN         NaN  \n",
            "8         NaN           NaN            NaN         NaN         NaN  \n",
            "9         NaN           NaN            NaN         NaN         NaN  \n",
            "\n",
            "[10 rows x 23 columns]\n"
          ]
        }
      ],
      "source": [
        "#1\n",
        "\n",
        "import pandas as pd\n",
        "\n",
        "df = pd.read_excel(\"data/GSAF5.xls\")\n",
        "print(df.shape)\n",
        "print(df.head(10))"
      ]
    },
    {
      "cell_type": "code",
      "source": [
        "#2\n",
        "\n",
        "missing = df.isnull().mean().sort_values(ascending=False)\n",
        "print(missing.head(20))\n",
        "\n",
        "df = df.dropna(axis=1, thresh=0.05*len(df))\n",
        "print(df.shape)"
      ],
      "metadata": {
        "colab": {
          "base_uri": "https://localhost:8080/"
        },
        "id": "nWJzlkr4Nkwg",
        "outputId": "408f4b6b-7102-42d7-d1ef-230c8d8ac68f"
      },
      "id": "nWJzlkr4Nkwg",
      "execution_count": 24,
      "outputs": [
        {
          "output_type": "stream",
          "name": "stdout",
          "text": [
            "Time              0.500710\n",
            "Species           0.444618\n",
            "Age               0.425163\n",
            "Activity          0.083073\n",
            "Sex               0.082221\n",
            "Location          0.080517\n",
            "Fatal Y/N         0.079665\n",
            "State             0.068872\n",
            "href formula      0.035217\n",
            "href              0.034933\n",
            "Case Number.1     0.034791\n",
            "Case Number       0.034649\n",
            "pdf               0.034507\n",
            "original order    0.034507\n",
            "Name              0.031099\n",
            "Country           0.007100\n",
            "Injury            0.004970\n",
            "Source            0.002840\n",
            "Type              0.002556\n",
            "Year              0.000284\n",
            "dtype: float64\n",
            "(7042, 21)\n"
          ]
        }
      ]
    },
    {
      "cell_type": "code",
      "source": [
        "#3\n",
        "\n",
        "print(df['Year'].unique()[:50])\n",
        "print(df['Year'].head(10))\n",
        "\n",
        "df['Year_clean'] = pd.to_numeric(df['Year'], errors='coerce')\n",
        "print(df['Year_clean'].describe())\n",
        "print(df['Year_clean'].head(10))\n",
        "\n",
        "# the range of values is large, the data covers an extended period of time, dating pretty far back"
      ],
      "metadata": {
        "colab": {
          "base_uri": "https://localhost:8080/"
        },
        "id": "1fucGKyfPT8u",
        "outputId": "f1957c5c-cadf-41e6-a676-c161701db2ba"
      },
      "id": "1fucGKyfPT8u",
      "execution_count": 31,
      "outputs": [
        {
          "output_type": "stream",
          "name": "stdout",
          "text": [
            "[2025. 2024. 2026. 2023. 2022. 2021. 2020. 2019. 2018. 2017.   nan 2016.\n",
            " 2015. 2014. 2013. 2012. 2011. 2010. 2009. 2008. 2007. 2006. 2005. 2004.\n",
            " 2003. 2002. 2001. 2000. 1999. 1998. 1997. 1996. 1995. 1984. 1994. 1993.\n",
            " 1992. 1991. 1990. 1989. 1969. 1988. 1987. 1986. 1985. 1983. 1982. 1981.\n",
            " 1980. 1979.]\n",
            "0    2025.0\n",
            "1    2025.0\n",
            "2    2025.0\n",
            "3    2025.0\n",
            "4    2025.0\n",
            "5    2025.0\n",
            "6    2025.0\n",
            "7    2025.0\n",
            "8    2025.0\n",
            "9    2025.0\n",
            "Name: Year, dtype: float64\n",
            "count    7040.000000\n",
            "mean     1935.621449\n",
            "std       271.221061\n",
            "min         0.000000\n",
            "25%      1948.000000\n",
            "50%      1986.000000\n",
            "75%      2010.000000\n",
            "max      2026.000000\n",
            "Name: Year_clean, dtype: float64\n",
            "0    2025.0\n",
            "1    2025.0\n",
            "2    2025.0\n",
            "3    2025.0\n",
            "4    2025.0\n",
            "5    2025.0\n",
            "6    2025.0\n",
            "7    2025.0\n",
            "8    2025.0\n",
            "9    2025.0\n",
            "Name: Year_clean, dtype: float64\n"
          ]
        }
      ]
    },
    {
      "cell_type": "code",
      "source": [
        "df_post1940 = df[df['Year_clean'] >= 1940]\n",
        "print(df_post1940.shape)\n",
        "\n",
        "df_pre1940 = df[df['Year_clean'] < 1940]\n",
        "print(df_pre1940.shape)"
      ],
      "metadata": {
        "colab": {
          "base_uri": "https://localhost:8080/"
        },
        "id": "WZdj_AFMQkln",
        "outputId": "1a25765a-6c2a-4a67-ce8a-22f531ac29f6"
      },
      "id": "WZdj_AFMQkln",
      "execution_count": 39,
      "outputs": [
        {
          "output_type": "stream",
          "name": "stdout",
          "text": [
            "(5507, 22)\n",
            "(1533, 22)\n"
          ]
        }
      ]
    },
    {
      "cell_type": "code",
      "source": [
        "attacks_plot = df_post1940['Year_clean'].value_counts().sort_index()\n",
        "attacks_plot.plot(kind='line', figsize=(10,5), title='Attacks since 1940')\n",
        "\n",
        "# visual of Attacks since 1940, seems to be a slight increase over time\n",
        "# this may bedue to better and more consistent reporting"
      ],
      "metadata": {
        "colab": {
          "base_uri": "https://localhost:8080/",
          "height": 505
        },
        "id": "vn1W4E4EScw4",
        "outputId": "7529029e-6bb5-4800-db50-a290263631da"
      },
      "id": "vn1W4E4EScw4",
      "execution_count": 43,
      "outputs": [
        {
          "output_type": "execute_result",
          "data": {
            "text/plain": [
              "<Axes: title={'center': 'Attacks since 1940'}, xlabel='Year_clean'>"
            ]
          },
          "metadata": {},
          "execution_count": 43
        },
        {
          "output_type": "display_data",
          "data": {
            "text/plain": [
              "<Figure size 1000x500 with 1 Axes>"
            ],
            "image/png": "[encoded data removed]"
          },
          "metadata": {}
        }
      ]
    },
    {
      "cell_type": "code",
      "source": [
        "print(df['Age'].head(20))\n",
        "print(df['Age'].unique()[:50])\n",
        "\n",
        "df['Age_clean'] = pd.to_numeric(df['Age'], errors='coerce')"
      ],
      "metadata": {
        "colab": {
          "base_uri": "https://localhost:8080/"
        },
        "id": "YsXxr3UBUuFY",
        "outputId": "99272344-2a00-4536-cb4b-c1290fcb0bd6"
      },
      "id": "YsXxr3UBUuFY",
      "execution_count": 45,
      "outputs": [
        {
          "output_type": "stream",
          "name": "stdout",
          "text": [
            "0      ?\n",
            "1      ?\n",
            "2     63\n",
            "3      9\n",
            "4     39\n",
            "5     19\n",
            "6      7\n",
            "7     85\n",
            "8      ?\n",
            "9     69\n",
            "10    18\n",
            "11    66\n",
            "12    21\n",
            "13    40\n",
            "14    37\n",
            "15    16\n",
            "16    20\n",
            "17     ?\n",
            "18    12\n",
            "19     9\n",
            "Name: Age, dtype: object\n",
            "['?' '63' '9' '39' '19' '7' '85' '69' '18' '66' '21' '40' '37' '16' '20'\n",
            " '12' '42' '26' '14' '45' '30' '30+' '56' '40+' '29' 35 58 29 24 20 55 17\n",
            " 12 37 36 23 40 28 69 48 '60+' 57 45 61 27 38 16 68 33 30]\n"
          ]
        }
      ]
    }
  ],
  "metadata": {
    "colab": {
      "provenance": []
    },
    "kernelspec": {
      "display_name": "Python 3 (ipykernel)",
      "language": "python",
      "name": "python3"
    },
    "language_info": {
      "codemirror_mode": {
        "name": "ipython",
        "version": 3
      },
      "file_extension": ".py",
      "mimetype": "text/x-python",
      "name": "python",
      "nbconvert_exporter": "python",
      "pygments_lexer": "ipython3",
      "version": "3.10.18"
    }
  },
  "nbformat": 4,
  "nbformat_minor": 5
}