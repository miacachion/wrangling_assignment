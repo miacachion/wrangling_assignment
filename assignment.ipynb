{
  "cells": [
    {
      "cell_type": "markdown",
      "id": "13ad028b-72b7-43ed-aa78-96fd4e518040",
      "metadata": {
        "id": "13ad028b-72b7-43ed-aa78-96fd4e518040"
      },
      "source": [
        "# Assignment: Data Wrangling\n",
        "### `! git clone https://github.com/ds3001f25/wrangling_assignment.git`\n",
        "### Do Q1 and Q2\n",
        "### Reading material: `tidy_data.pdf`"
      ]
    },
    {
      "cell_type": "markdown",
      "id": "da879ea7-8aac-48a3-b6c2-daea56d2e072",
      "metadata": {
        "id": "da879ea7-8aac-48a3-b6c2-daea56d2e072"
      },
      "source": [
        "**Q1.** This question provides some practice cleaning variables which have common problems.\n",
        "1. Numeric variable: For `./data/airbnb_hw.csv`, clean the `Price` variable as well as you can, and explain the choices you make. How many missing values do you end up with? (Hint: What happens to the formatting when a price goes over 999 dollars, say from 675 to 1,112?)\n",
        "2. Categorical variable: For the Minnesota police use of for data, `./data/mn_police_use_of_force.csv`, clean the `subject_injury` variable, handling the NA's; this gives a value `Yes` when a person was injured by police, and `No` when no injury occurred. What proportion of the values are missing? Is this a concern? Cross-tabulate your cleaned `subject_injury` variable with the `force_type` variable. Are there any patterns regarding when the data are missing?\n",
        "3. Dummy variable: For the pretrial data covered in the lecture `./data/justice_data.parquet`, clean the `WhetherDefendantWasReleasedPretrial` variable as well as you can, and, in particular, replace missing values with `np.nan`.\n",
        "4. Missing values, not at random: For the pretrial data covered in the lecture, clean the `ImposedSentenceAllChargeInContactEvent` variable as well as you can, and explain the choices you make. (Hint: Look at the `SentenceTypeAllChargesAtConvictionInContactEvent` variable.)"
      ]
    },
    {
      "cell_type": "code",
      "execution_count": 23,
      "id": "9d412a8d",
      "metadata": {
        "id": "9d412a8d",
        "outputId": "bd84ee93-2ea7-41c3-d204-3d6218727060",
        "colab": {
          "base_uri": "https://localhost:8080/"
        }
      },
      "outputs": [
        {
          "output_type": "stream",
          "name": "stdout",
          "text": [
            "0    145.0\n",
            "1     37.0\n",
            "2     28.0\n",
            "3    199.0\n",
            "4    549.0\n",
            "5    149.0\n",
            "6    250.0\n",
            "7     90.0\n",
            "8    270.0\n",
            "9    290.0\n",
            "Name: Price_clean, dtype: float64\n",
            "Missing vals: 0\n"
          ]
        }
      ],
      "source": [
        "import pandas as pd\n",
        "import numpy as np\n",
        "\n",
        "#1\n",
        "\n",
        "airbnb = pd.read_csv(\"./data/airbnb_hw.csv\")\n",
        "\n",
        "airbnb[\"Price_clean\"] = (\n",
        "    airbnb[\"Price\"]\n",
        "    .str.replace(\",\", \"\", regex=False)\n",
        "    .astype(float)\n",
        ")\n",
        "\n",
        "print(airbnb[\"Price_clean\"].head(10))\n",
        "\n",
        "# removed commas from numbers over 999, changed values to float to allow for numeric calculations\n",
        "\n",
        "missing_prices = airbnb[\"Price_clean\"].isna().sum()\n",
        "print(\"Missing vals:\", missing_prices)\n",
        "\n",
        "# 0 missing values in cleaned column"
      ]
    },
    {
      "cell_type": "code",
      "source": [
        "#2\n",
        "\n",
        "police = pd.read_csv(\"./data/mn_police_use_of_force.csv\")\n",
        "police[\"subject_injury\"].value_counts(dropna=False)\n",
        "\n",
        "police[\"subject_injury_clean\"] = (\n",
        "    police[\"subject_injury\"]\n",
        "    .str.strip()\n",
        "    .str.lower()\n",
        "    .replace({\"none\": \"no\"})\n",
        ")\n",
        "\n",
        "police[\"subject_injury_clean\"] = police[\"subject_injury_clean\"].map({\n",
        "    \"yes\": \"Yes\",\n",
        "    \"no\": \"No\"\n",
        "})\n",
        "\n",
        "police[\"subject_injury_clean\"].value_counts(dropna=False)\n",
        "\n",
        "prop_missing = police[\"subject_injury_clean\"].isna().mean()\n",
        "print(prop_missing)\n",
        "\n",
        "# the proportion of missing values is roughly 76.19 percent\n",
        "# this number is concerning it is difficult to draw reliable conclusions from a data set with such a high proportion of missing values\n"
      ],
      "metadata": {
        "id": "tzg0RWG2jFyh",
        "outputId": "c6c9cc17-0216-44ff-d303-fce5428b3cff",
        "colab": {
          "base_uri": "https://localhost:8080/"
        }
      },
      "id": "tzg0RWG2jFyh",
      "execution_count": 43,
      "outputs": [
        {
          "output_type": "stream",
          "name": "stdout",
          "text": [
            "0.7619342359767892\n"
          ]
        }
      ]
    },
    {
      "cell_type": "code",
      "source": [
        "ct = pd.crosstab(police[\"subject_injury_clean\"], police[\"force_type\"], margins=True)\n",
        "print(ct)\n",
        "\n",
        "# patterns that stick out are higher number of data points in the categories Bodily Force and Taser and lower number in Baton and Firearm\n",
        "# more missing data/limits in data collection in more extreme forms such as Firearm"
      ],
      "metadata": {
        "id": "jlQzEQS73lsh",
        "outputId": "73290b6e-cc0b-4cb7-cd83-0d464594cf78",
        "colab": {
          "base_uri": "https://localhost:8080/"
        }
      },
      "id": "jlQzEQS73lsh",
      "execution_count": 47,
      "outputs": [
        {
          "output_type": "stream",
          "name": "stdout",
          "text": [
            "force_type            Baton  Bodily Force  Chemical Irritant  Firearm  \\\n",
            "subject_injury_clean                                                    \n",
            "No                        0          1093                131        2   \n",
            "Yes                       2          1286                 41        0   \n",
            "All                       2          2379                172        2   \n",
            "\n",
            "force_type            Gun Point Display  Improvised Weapon  \\\n",
            "subject_injury_clean                                         \n",
            "No                                   33                 34   \n",
            "Yes                                  44                 40   \n",
            "All                                  77                 74   \n",
            "\n",
            "force_type            Less Lethal Projectile  Police K9 Bite  Taser   All  \n",
            "subject_injury_clean                                                       \n",
            "No                                         1               2    150  1446  \n",
            "Yes                                        2              44    172  1631  \n",
            "All                                        3              46    322  3077  \n"
          ]
        }
      ]
    },
    {
      "cell_type": "code",
      "source": [
        "#3\n",
        "\n",
        "justice = pd.read_parquet(\"./data/justice_data.parquet\")\n",
        "\n",
        "justice[\"WhetherDefendantWasReleasedPretrial\"].value_counts(dropna=False)\n",
        "\n",
        "justice[\"ReleasedPretrial_clean\"] = justice[\"WhetherDefendantWasReleasedPretrial\"].replace(9, np.nan)\n",
        "\n",
        "justice[\"ReleasedPretrial_clean\"].value_counts(dropna=False)\n",
        "\n",
        "justice[\"ReleasedPretrial_str\"] = justice[\"ReleasedPretrial_clean\"].map({\n",
        "    1.0: \"Yes\",\n",
        "    0.0: \"No\",\n",
        "    np.nan: np.nan\n",
        "})\n",
        "\n",
        "justice[\"ReleasedPretrial_str\"].value_counts(dropna=False)"
      ],
      "metadata": {
        "id": "m-TBtToEFj-z",
        "outputId": "18b1d41b-49e9-4fdf-9e84-aa19cef62f80",
        "colab": {
          "base_uri": "https://localhost:8080/",
          "height": 210
        }
      },
      "id": "m-TBtToEFj-z",
      "execution_count": 56,
      "outputs": [
        {
          "output_type": "execute_result",
          "data": {
            "text/plain": [
              "ReleasedPretrial_str\n",
              "Yes    19154\n",
              "No      3801\n",
              "NaN       31\n",
              "Name: count, dtype: int64"
            ],
            "text/html": [
              "<div>\n",
              "<style scoped>\n",
              "    .dataframe tbody tr th:only-of-type {\n",
              "        vertical-align: middle;\n",
              "    }\n",
              "\n",
              "    .dataframe tbody tr th {\n",
              "        vertical-align: top;\n",
              "    }\n",
              "\n",
              "    .dataframe thead th {\n",
              "        text-align: right;\n",
              "    }\n",
              "</style>\n",
              "<table border=\"1\" class=\"dataframe\">\n",
              "  <thead>\n",
              "    <tr style=\"text-align: right;\">\n",
              "      <th></th>\n",
              "      <th>count</th>\n",
              "    </tr>\n",
              "    <tr>\n",
              "      <th>ReleasedPretrial_str</th>\n",
              "      <th></th>\n",
              "    </tr>\n",
              "  </thead>\n",
              "  <tbody>\n",
              "    <tr>\n",
              "      <th>Yes</th>\n",
              "      <td>19154</td>\n",
              "    </tr>\n",
              "    <tr>\n",
              "      <th>No</th>\n",
              "      <td>3801</td>\n",
              "    </tr>\n",
              "    <tr>\n",
              "      <th>NaN</th>\n",
              "      <td>31</td>\n",
              "    </tr>\n",
              "  </tbody>\n",
              "</table>\n",
              "</div><br><label><b>dtype:</b> int64</label>"
            ]
          },
          "metadata": {},
          "execution_count": 56
        }
      ]
    },
    {
      "cell_type": "code",
      "source": [
        "#4\n",
        "\n",
        "justice[[\"ImposedSentenceAllChargeInContactEvent\",\n",
        "         \"SentenceTypeAllChargesAtConvictionInContactEvent\"]].head(20)\n",
        "\n",
        "justice[\"ImposedSentence_clean\"] = justice[\"ImposedSentenceAllChargeInContactEvent\"]\n",
        "\n",
        "justice.loc[\n",
        "    justice[\"SentenceTypeAllChargesAtConvictionInContactEvent\"].isna(),\n",
        "    \"ImposedSentence_clean\"\n",
        "] = np.nan\n",
        "\n",
        "missing_sentences = justice[\"ImposedSentence_clean\"].isna().sum()\n",
        "\n",
        "# replaced missing sentences with NaN when corresponding sentence type was missing, marked missing vals for cases without conviction"
      ],
      "metadata": {
        "id": "HTXMgmuwHwZN"
      },
      "id": "HTXMgmuwHwZN",
      "execution_count": 59,
      "outputs": []
    },
    {
      "cell_type": "markdown",
      "id": "5a60a44e",
      "metadata": {
        "id": "5a60a44e"
      },
      "source": [
        "**Q2.** Go to https://sharkattackfile.net/ and download their dataset on shark attacks (Hint: `GSAF5.xls`).\n",
        "\n",
        "1. Open the shark attack file using Pandas. It is probably not a csv file, so `read_csv` won't work.\n",
        "2. Drop any columns that do not contain data.\n",
        "3. Clean the year variable. Describe the range of values you see. Filter the rows to focus on attacks since 1940. Are attacks increasing, decreasing, or remaining constant over time?\n",
        "4. Clean the Age variable and make a histogram of the ages of the victims.\n",
        "5. What proportion of victims are male?\n",
        "6. Clean the `Type` variable so it only takes three values: Provoked and Unprovoked and Unknown. What proportion of attacks are unprovoked?\n",
        "7. Clean the `Fatal Y/N` variable so it only takes three values: Y, N, and Unknown.\n",
        "8. Are sharks more likely to launch unprovoked attacks on men or women? Is the attack more or less likely to be fatal when the attack is provoked or unprovoked? Is it more or less likely to be fatal when the victim is male or female? How do you feel about sharks?\n",
        "9. What proportion of attacks appear to be by white sharks? (Hint: `str.split()` makes a vector of text values into a list of lists, split by spaces.)"
      ]
    },
    {
      "cell_type": "code",
      "execution_count": null,
      "id": "a3f03830",
      "metadata": {
        "id": "a3f03830"
      },
      "outputs": [],
      "source": []
    }
  ],
  "metadata": {
    "colab": {
      "provenance": []
    },
    "kernelspec": {
      "display_name": "Python 3 (ipykernel)",
      "language": "python",
      "name": "python3"
    },
    "language_info": {
      "codemirror_mode": {
        "name": "ipython",
        "version": 3
      },
      "file_extension": ".py",
      "mimetype": "text/x-python",
      "name": "python",
      "nbconvert_exporter": "python",
      "pygments_lexer": "ipython3",
      "version": "3.10.18"
    }
  },
  "nbformat": 4,
  "nbformat_minor": 5
}